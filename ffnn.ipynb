{
 "cells": [
  {
   "cell_type": "code",
   "execution_count": 10,
   "metadata": {},
   "outputs": [],
   "source": [
    "import json\n",
    "import numpy as np\n",
    "\n",
    "def linear(x):\n",
    "    return x\n",
    "\n",
    "def relu(x):\n",
    "    return np.maximum(0, x)\n",
    "\n",
    "def sigmoid(x):\n",
    "    return 1 / (1 + np.exp(-x))\n",
    "\n",
    "def softmax(x):\n",
    "    exp_x = np.exp(x)\n",
    "    return exp_x / np.sum(exp_x, axis=1, keepdims=True)\n",
    "\n",
    "def forward_propagation(model, input_data, weights):\n",
    "    layers = model[\"layers\"]\n",
    "    output_layer = [input_data]\n",
    "\n",
    "    for i, layer in enumerate(layers):\n",
    "        activation_function = layer[\"activation_function\"]\n",
    "        weight_matrix = weights[i]\n",
    "        bias = layer.get(\"bias\", 1)\n",
    "\n",
    "        input_activation = output_layer[-1]\n",
    "        # print(\"Dimensi input_activation:\", input_activation.shape)\n",
    "        # print(input_activation)\n",
    "        if len(input_activation.shape) == 1:\n",
    "            input_activation_with_bias = np.insert(input_activation, 0, bias)\n",
    "            input_activation_with_bias = input_activation_with_bias.reshape(1, -1)\n",
    "        else:\n",
    "            batch_size = input_activation.shape[0]\n",
    "            bias_vector = np.ones((batch_size, 1)) * bias\n",
    "            input_activation_with_bias = np.concatenate((bias_vector, input_activation), axis=1)\n",
    "        # print(\"Dimensi input_activation_with_bias:\", input_activation_with_bias.shape)\n",
    "        # print(input_activation_with_bias)\n",
    "        # print(\"Dimensi weight_matrix:\", weight_matrix.shape)\n",
    "        # print(weight_matrix)\n",
    "        \n",
    "        output_linear_combination = np.dot(input_activation_with_bias, weight_matrix)\n",
    "\n",
    "        if activation_function == \"linear\":\n",
    "            activation_result = linear(output_linear_combination)\n",
    "        elif activation_function == \"relu\":\n",
    "            activation_result = relu(output_linear_combination)\n",
    "        elif activation_function == \"sigmoid\":\n",
    "            activation_result = sigmoid(output_linear_combination)\n",
    "        elif activation_function == \"softmax\":\n",
    "            activation_result = softmax(output_linear_combination)\n",
    "\n",
    "        output_layer.append(activation_result)\n",
    "\n",
    "    return output_layer[-1]"
   ]
  },
  {
   "cell_type": "code",
   "execution_count": 11,
   "metadata": {},
   "outputs": [],
   "source": [
    "# Load JSON input\n",
    "with open(\"test/relu.json\", \"r\") as file:\n",
    "    data = json.load(file)\n",
    "\n",
    "# Extract data\n",
    "model = data[\"case\"][\"model\"]\n",
    "input_data = np.array(data[\"case\"][\"input\"])\n",
    "weights = [np.array(layer_weights) for layer_weights in data[\"case\"][\"weights\"]]\n",
    "expected_output = np.array(data[\"expect\"][\"output\"])"
   ]
  },
  {
   "cell_type": "code",
   "execution_count": 12,
   "metadata": {},
   "outputs": [
    {
     "name": "stdout",
     "output_type": "stream",
     "text": [
      "Output matches the expected output within tolerance. With error of 4.8148248609680896e-33 which is less than or equal to 1e-06 .\n",
      "Output:\n",
      "[[0.05 1.1  0.  ]]\n"
     ]
    }
   ],
   "source": [
    "# Perform forward propagation\n",
    "output = forward_propagation(model, input_data, weights)\n",
    "\n",
    "# Check error\n",
    "error = np.sum((output - expected_output) ** 2)\n",
    "\n",
    "# Check if error is within tolerance\n",
    "max_sse = data[\"expect\"][\"max_sse\"]\n",
    "if error <= max_sse:\n",
    "    print(\"Output matches the expected output within tolerance. With error of\", error, \"which is less than or equal to\", max_sse, \".\")\n",
    "else:\n",
    "    print(\"Output does not match the expected output within tolerance. With error of\", error, \"which is greater than\", max_sse, \".\")\n",
    "\n",
    "print(\"Output:\")\n",
    "print(output)"
   ]
  }
 ],
 "metadata": {
  "kernelspec": {
   "display_name": "base",
   "language": "python",
   "name": "python3"
  },
  "language_info": {
   "codemirror_mode": {
    "name": "ipython",
    "version": 3
   },
   "file_extension": ".py",
   "mimetype": "text/x-python",
   "name": "python",
   "nbconvert_exporter": "python",
   "pygments_lexer": "ipython3",
   "version": "3.9.6"
  }
 },
 "nbformat": 4,
 "nbformat_minor": 2
}
