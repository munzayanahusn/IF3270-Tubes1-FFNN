{
 "cells": [
  {
   "cell_type": "code",
   "execution_count": 1,
   "metadata": {},
   "outputs": [],
   "source": [
    "import json\n",
    "import numpy as np\n",
    "from graphviz import Digraph\n",
    "\n",
    "def linear(x):\n",
    "    return x\n",
    "\n",
    "def relu(x):\n",
    "    return np.maximum(0, x)\n",
    "\n",
    "def sigmoid(x):\n",
    "    return 1 / (1 + np.exp(-x))\n",
    "\n",
    "def softmax(x):\n",
    "    exp_x = np.exp(x)\n",
    "    return exp_x / np.sum(exp_x, axis=1, keepdims=True)\n",
    "\n",
    "def forward_propagation(model, input_data, weights):\n",
    "    layers = model[\"layers\"]\n",
    "    output_layer = [input_data]\n",
    "\n",
    "    for i, layer in enumerate(layers):\n",
    "        activation_function = layer[\"activation_function\"]\n",
    "        weight_matrix = weights[i]\n",
    "        bias = layer.get(\"bias\", 1)\n",
    "\n",
    "        input_activation = output_layer[-1]\n",
    "        # print(\"Dimensi input_activation:\", input_activation.shape)\n",
    "        # print(input_activation)\n",
    "        if len(input_activation.shape) == 1:\n",
    "            input_activation_with_bias = np.insert(input_activation, 0, bias)\n",
    "            input_activation_with_bias = input_activation_with_bias.reshape(1, -1)\n",
    "        else:\n",
    "            batch_size = input_activation.shape[0]\n",
    "            bias_vector = np.ones((batch_size, 1)) * bias\n",
    "            input_activation_with_bias = np.concatenate((bias_vector, input_activation), axis=1)\n",
    "        # print(\"Dimensi input_activation_with_bias:\", input_activation_with_bias.shape)\n",
    "        # print(input_activation_with_bias)\n",
    "        # print(\"Dimensi weight_matrix:\", weight_matrix.shape)\n",
    "        # print(weight_matrix)\n",
    "        \n",
    "        output_linear_combination = np.dot(input_activation_with_bias, weight_matrix)\n",
    "\n",
    "        if activation_function == \"linear\":\n",
    "            activation_result = linear(output_linear_combination)\n",
    "        elif activation_function == \"relu\":\n",
    "            activation_result = relu(output_linear_combination)\n",
    "        elif activation_function == \"sigmoid\":\n",
    "            activation_result = sigmoid(output_linear_combination)\n",
    "        elif activation_function == \"softmax\":\n",
    "            activation_result = softmax(output_linear_combination)\n",
    "\n",
    "        output_layer.append(activation_result)\n",
    "\n",
    "    return output_layer[-1]"
   ]
  },
  {
   "cell_type": "code",
   "execution_count": 76,
   "metadata": {},
   "outputs": [],
   "source": [
    "# Load JSON input\n",
    "with open(\"test/multilayer.json\", \"r\") as file:\n",
    "    data = json.load(file)\n",
    "\n",
    "# Extract data\n",
    "model = data[\"case\"][\"model\"]\n",
    "input_data = np.array(data[\"case\"][\"input\"])\n",
    "weights = [np.array(layer_weights) for layer_weights in data[\"case\"][\"weights\"]]\n",
    "expected_output = np.array(data[\"expect\"][\"output\"])"
   ]
  },
  {
   "cell_type": "code",
   "execution_count": 77,
   "metadata": {},
   "outputs": [
    {
     "name": "stdout",
     "output_type": "stream",
     "text": [
      "Output matches the expected output within tolerance. With error of 3.1555532735024718e-18 which is less than or equal to 1e-06 .\n",
      "Output:\n",
      "[[0.4846748]]\n"
     ]
    }
   ],
   "source": [
    "# Perform forward propagation\n",
    "output = forward_propagation(model, input_data, weights)\n",
    "\n",
    "# Check error\n",
    "error = np.sum((output - expected_output) ** 2)\n",
    "\n",
    "# Check if error is within tolerance\n",
    "max_sse = data[\"expect\"][\"max_sse\"]\n",
    "if error <= max_sse:\n",
    "    print(\"Output matches the expected output within tolerance. With error of\", error, \"which is less than or equal to\", max_sse, \".\")\n",
    "else:\n",
    "    print(\"Output does not match the expected output within tolerance. With error of\", error, \"which is greater than\", max_sse, \".\")\n",
    "\n",
    "print(\"Output:\")\n",
    "print(output)"
   ]
  },
  {
   "cell_type": "code",
   "execution_count": 78,
   "metadata": {},
   "outputs": [
    {
     "name": "stdout",
     "output_type": "stream",
     "text": [
      "3 4 1\n"
     ]
    },
    {
     "data": {
      "text/plain": [
       "'output\\\\multilayer.png'"
      ]
     },
     "execution_count": 78,
     "metadata": {},
     "output_type": "execute_result"
    }
   ],
   "source": [
    "#Visualize the model\n",
    "def visualize(data):\n",
    "    dot = Digraph(comment='FFNN')\n",
    "    dot.attr(rankdir='LR')\n",
    "    # dot.attr(splines='false')\n",
    "    dot.attr(rank='same')\n",
    "\n",
    "    len_input = data[\"case\"][\"model\"][\"input_size\"]\n",
    "    len_layers = len(data[\"case\"][\"model\"][\"layers\"])\n",
    "    len_output = data[\"case\"][\"model\"][\"layers\"][len_layers-1][\"number_of_neurons\"]\n",
    "    print(len_input,len_layers,len_output)\n",
    "\n",
    "\n",
    "    # no hidden layer, connect input directly to output\n",
    "    if (len_layers == 1):\n",
    "        for i in range(len_input+1):\n",
    "            for j in range(len_output):\n",
    "                weight = data[\"case\"][\"weights\"][0][i][j]\n",
    "                if (i==0): dot.edge(f'b', f'o{j+1}', label=f'w-b-0{j+1}={weight}')\n",
    "                else: dot.edge(f'i{i}', f'o{j+1}', label=f'w-i{i}-o{j+1}={weight}')\n",
    "    else:\n",
    "        # Add input node\n",
    "        for i in range(len_input+1):\n",
    "            if(i==0): dot.node(f'b0', f'b0')\n",
    "            else: dot.node(f'i{i}', f'i{i}')\n",
    "\n",
    "        # Add output nodes\n",
    "        for j in range(len_output):\n",
    "            dot.node(f'o{j+1}', f'o{j+1}')\n",
    "\n",
    "        # Process hidden layers\n",
    "        for layer in range(len_layers):\n",
    "            num_neurons = data[\"case\"][\"model\"][\"layers\"][layer][\"number_of_neurons\"]\n",
    "            \n",
    "            #Add layer nodes\n",
    "            if(layer!=len_layers-1):\n",
    "                for neuron in range(num_neurons+1):\n",
    "                    if (neuron==0): dot.node(f'b{layer+1}', f'b{layer+1}')\n",
    "                    else: dot.node(f'h{layer+1}{neuron}', f'h{layer+1}{neuron}')\n",
    "\n",
    "            if layer == 0:\n",
    "                # Connect input layer to first hidden layer\n",
    "                for i in range(len_input+1):\n",
    "                    for neuron in range(num_neurons):\n",
    "                        weight = data[\"case\"][\"weights\"][layer][i][neuron]\n",
    "                        if (i==0): dot.edge(f'b0', f'h{layer+1}{neuron+1}', label=f'w-b0-h{layer+1}{neuron+1}={weight}')\n",
    "                        else: dot.edge(f'i{i}', f'h{layer+1}{neuron+1}', label=f'w-i{i}-h{layer+1}{neuron+1}={weight}')\n",
    "            else:\n",
    "                # Connect layers between them\n",
    "                prev_num_neurons = data[\"case\"][\"model\"][\"layers\"][layer-1][\"number_of_neurons\"]\n",
    "                for p in range(prev_num_neurons+1):\n",
    "                    for n in range(num_neurons):\n",
    "                        weight = data[\"case\"][\"weights\"][layer][p][n]\n",
    "                        if (layer!=len_layers-1):\n",
    "                            if (p==0): dot.edge(f'b{layer}', f'h{layer+1}{n+1}', label=f'w-b{layer}-h{layer+1}{n+1}={weight}')\n",
    "                            else: dot.edge(f'h{layer}{p}', f'h{layer+1}{n+1}', label=f'w-h{layer}{p}-h{layer+1}{n+1}={weight}')\n",
    "                        else:\n",
    "                            if (p==0): dot.edge(f'b{layer}', f'o{n+1}', label=f'w-b{layer}-o{n+1}={weight}')\n",
    "                            else: dot.edge(f'h{layer}{p}', f'o{n+1}', label=f'w-h{layer}{p}-o{n+1}={weight}')\n",
    "    return dot\n",
    "\n",
    "dot = visualize(data)\n",
    "dot.render('output/multilayer', format='png', cleanup=True)\n",
    "\n"
   ]
  }
 ],
 "metadata": {
  "kernelspec": {
   "display_name": "base",
   "language": "python",
   "name": "python3"
  },
  "language_info": {
   "codemirror_mode": {
    "name": "ipython",
    "version": 3
   },
   "file_extension": ".py",
   "mimetype": "text/x-python",
   "name": "python",
   "nbconvert_exporter": "python",
   "pygments_lexer": "ipython3",
   "version": "3.9.4"
  }
 },
 "nbformat": 4,
 "nbformat_minor": 2
}
