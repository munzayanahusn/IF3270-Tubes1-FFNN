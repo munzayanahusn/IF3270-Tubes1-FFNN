{
 "cells": [
  {
   "cell_type": "code",
   "execution_count": 81,
   "metadata": {},
   "outputs": [],
   "source": [
    "import json\n",
    "import numpy as np\n",
    "\n",
    "def linear(x):\n",
    "    return x\n",
    "\n",
    "def relu(x):\n",
    "    return np.maximum(0, x)\n",
    "\n",
    "def sigmoid(x):\n",
    "    return 1 / (1 + np.exp(-x))\n",
    "\n",
    "def softmax(x):\n",
    "    exp_x = np.exp(x)\n",
    "    return exp_x / np.sum(exp_x, axis=1, keepdims=True)\n",
    "\n",
    "def forward_propagation(model, input_data, weights):\n",
    "    layers = model[\"layers\"]\n",
    "    output_layer = [input_data]\n",
    "\n",
    "    for i, layer in enumerate(layers):\n",
    "        activation_function = layer[\"activation_function\"]\n",
    "        weight_matrix = weights[i]\n",
    "        bias = layer.get(\"bias\", 1)\n",
    "\n",
    "        input_activation = output_layer[-1]\n",
    "        # print(\"Dimensi input_activation:\", input_activation.shape)\n",
    "        # print(input_activation)\n",
    "        input_activation_with_bias = np.insert(input_activation, 0, bias)\n",
    "        input_activation_with_bias = input_activation_with_bias.reshape(1, -1)\n",
    "        # print(\"Dimensi input_activation_with_bias:\", input_activation_with_bias.shape)\n",
    "        # print(input_activation_with_bias)\n",
    "        # print(\"Dimensi weight_matrix:\", weight_matrix.shape)\n",
    "        # print(weight_matrix)\n",
    "        \n",
    "        output_linear_combination = np.dot(input_activation_with_bias, weight_matrix)\n",
    "\n",
    "        if activation_function == \"linear\":\n",
    "            activation_result = linear(output_linear_combination)\n",
    "        elif activation_function == \"relu\":\n",
    "            activation_result = relu(output_linear_combination)\n",
    "        elif activation_function == \"sigmoid\":\n",
    "            activation_result = sigmoid(output_linear_combination)\n",
    "        elif activation_function == \"softmax\":\n",
    "            activation_result = softmax(output_linear_combination)\n",
    "\n",
    "        output_layer.append(activation_result)\n",
    "\n",
    "    return output_layer[-1]"
   ]
  },
  {
   "cell_type": "code",
   "execution_count": 82,
   "metadata": {},
   "outputs": [],
   "source": [
    "# Load JSON input\n",
    "with open(\"test/relu.json\", \"r\") as file:\n",
    "    data = json.load(file)\n",
    "\n",
    "# Extract data\n",
    "model = data[\"case\"][\"model\"]\n",
    "input_data = np.array(data[\"case\"][\"input\"])\n",
    "weights = np.array(data[\"case\"][\"weights\"])\n",
    "expected_output = np.array(data[\"expect\"][\"output\"])"
   ]
  },
  {
   "cell_type": "code",
   "execution_count": 83,
   "metadata": {},
   "outputs": [
    {
     "name": "stdout",
     "output_type": "stream",
     "text": [
      "[[ 1.  -1.   0.5]]\n",
      "[[ 0.1  0.2  0.3]\n",
      " [ 0.4 -0.5  0.6]\n",
      " [ 0.7  0.8 -0.9]]\n",
      "Output matches the expected output within tolerance.\n",
      "Output:\n",
      "[[0.05 1.1  0.  ]]\n"
     ]
    }
   ],
   "source": [
    "# Perform forward propagation\n",
    "output = forward_propagation(model, input_data, weights)\n",
    "\n",
    "# Check error\n",
    "error = np.sum((output - expected_output) ** 2)\n",
    "\n",
    "# Check if error is within tolerance\n",
    "max_sse = data[\"expect\"][\"max_sse\"]\n",
    "if error <= max_sse:\n",
    "    print(\"Output matches the expected output within tolerance.\")\n",
    "else:\n",
    "    print(\"Output does not match the expected output within tolerance.\")\n",
    "\n",
    "print(\"Output:\")\n",
    "print(output)"
   ]
  }
 ],
 "metadata": {
  "kernelspec": {
   "display_name": "base",
   "language": "python",
   "name": "python3"
  },
  "language_info": {
   "codemirror_mode": {
    "name": "ipython",
    "version": 3
   },
   "file_extension": ".py",
   "mimetype": "text/x-python",
   "name": "python",
   "nbconvert_exporter": "python",
   "pygments_lexer": "ipython3",
   "version": "3.11.5"
  }
 },
 "nbformat": 4,
 "nbformat_minor": 2
}
