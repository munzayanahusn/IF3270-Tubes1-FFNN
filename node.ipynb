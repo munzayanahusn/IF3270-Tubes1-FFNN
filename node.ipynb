{
 "cells": [
  {
   "cell_type": "code",
   "execution_count": 11,
   "metadata": {},
   "outputs": [],
   "source": [
    "import numpy as np\n",
    "\n",
    "class Perceptron:\n",
    "    def __init__(self, input_weight, activation_function):\n",
    "        self.weight = input_weight\n",
    "        self.activation_function = activation_function\n",
    "        self.bias = 1\n",
    "\n",
    "    def linear_combination(self, input_x):\n",
    "        return np.dot(self.weight, input_x)\n",
    "    \n",
    "    def activation(self, x):\n",
    "        if self.activation_function == 'linear':\n",
    "            return x\n",
    "        elif self.activation_function == 'relu':\n",
    "            return max(0, x)\n",
    "        elif self.activation_function == 'sigmoid':\n",
    "            return 1 / (1 + np.exp(-x))\n",
    "        elif self.activation_function == 'softmax':\n",
    "            return np.exp(x) / np.sum(np.exp(x))\n",
    "        else:\n",
    "            print('Invalid activation function')\n",
    "            return None\n",
    "        \n",
    "    def feed_forward(self, input_x):\n",
    "        inputs_with_bias = np.insert(input_x, 0, 1)\n",
    "        output_linear_combination = self.linear_combination(inputs_with_bias)\n",
    "        print(\"Output dari linear combination\", \"=\", output_linear_combination)\n",
    "        \n",
    "        output_activation = self.activation(output_linear_combination)\n",
    "        return output_activation"
   ]
  },
  {
   "cell_type": "code",
   "execution_count": 12,
   "metadata": {},
   "outputs": [
    {
     "name": "stdout",
     "output_type": "stream",
     "text": [
      "Output dari linear combination = 2.56\n",
      "Output dari perceptron dengan fungsi aktivasi linear = 2.56\n"
     ]
    }
   ],
   "source": [
    "weight = np.array([0.5, 1, 1.2, 1.5])\n",
    "activation = 'relu'\n",
    "perceptron = Perceptron(input_weight=weight, activation_function=activation)\n",
    "\n",
    "inputs = np.array([0.5, 0.3, 0.8])\n",
    "output = perceptron.feed_forward(inputs)\n",
    "print(\"Output dari perceptron dengan fungsi aktivasi\", activation, \"=\", output)"
   ]
  }
 ],
 "metadata": {
  "kernelspec": {
   "display_name": "base",
   "language": "python",
   "name": "python3"
  },
  "language_info": {
   "codemirror_mode": {
    "name": "ipython",
    "version": 3
   },
   "file_extension": ".py",
   "mimetype": "text/x-python",
   "name": "python",
   "nbconvert_exporter": "python",
   "pygments_lexer": "ipython3",
   "version": "3.11.5"
  }
 },
 "nbformat": 4,
 "nbformat_minor": 2
}
